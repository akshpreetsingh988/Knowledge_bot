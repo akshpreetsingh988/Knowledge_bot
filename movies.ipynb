{
 "cells": [
  {
   "cell_type": "code",
   "execution_count": 1,
   "metadata": {},
   "outputs": [
    {
     "name": "stdout",
     "output_type": "stream",
     "text": [
      "Stratified sample saved to 'stratified_sample.csv'\n"
     ]
    },
    {
     "name": "stderr",
     "output_type": "stream",
     "text": [
      "/var/folders/5v/t2dbc1k52p18ngftr23kjfbm0000gn/T/ipykernel_59998/3416182993.py:13: DeprecationWarning: DataFrameGroupBy.apply operated on the grouping columns. This behavior is deprecated, and in a future version of pandas the grouping columns will be excluded from the operation. Either pass `include_groups=False` to exclude the groupings or explicitly select the grouping columns after groupby to silence this warning.\n",
      "  stratified_sample = df.groupby(stratification_column, group_keys=False).apply(lambda x: x.sample(frac=sample_fraction))\n"
     ]
    }
   ],
   "source": [
    "import pandas as pd\n",
    "\n",
    "# Load dataset\n",
    "df = pd.read_csv('netflix_titles.csv')\n",
    "\n",
    "# Choose a stratification column. For this example, let's use 'type'\n",
    "stratification_column = 'type'\n",
    "\n",
    "# Define the fraction of data to sample from each stratum\n",
    "sample_fraction = 0.2  # e.g., 20%\n",
    "\n",
    "# Perform stratified sampling\n",
    "stratified_sample = df.groupby(stratification_column, group_keys=False).apply(lambda x: x.sample(frac=sample_fraction))\n",
    "\n",
    "# Save to CSV file\n",
    "stratified_sample.to_csv('stratified_sample.csv', index=False)\n",
    "\n",
    "print(\"Stratified sample saved to 'stratified_sample.csv'\")"
   ]
  },
  {
   "cell_type": "code",
   "execution_count": null,
   "metadata": {},
   "outputs": [],
   "source": []
  }
 ],
 "metadata": {
  "kernelspec": {
   "display_name": "genAi",
   "language": "python",
   "name": "python3"
  },
  "language_info": {
   "codemirror_mode": {
    "name": "ipython",
    "version": 3
   },
   "file_extension": ".py",
   "mimetype": "text/x-python",
   "name": "python",
   "nbconvert_exporter": "python",
   "pygments_lexer": "ipython3",
   "version": "3.12.5"
  }
 },
 "nbformat": 4,
 "nbformat_minor": 2
}
